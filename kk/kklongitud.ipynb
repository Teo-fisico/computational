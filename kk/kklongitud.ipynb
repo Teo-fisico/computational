{
 "cells": [
  {
   "cell_type": "code",
   "execution_count": null,
   "id": "245d0bb3",
   "metadata": {},
   "outputs": [],
   "source": [
    "import numpy as np\n",
    "import matplotlib.pyplot as plt\n",
    "\n",
    "# 1️⃣ Leer archivo de datos: longitudes de onda (lambda) y coeficiente de extinción (k)\n",
    "datos=np.loadtxt(\"coef_ext.txt\", comments='#')\n",
    "\n",
    "lambda_vals=datos[:,0]   # primera columna: longitudes de onda (en micrómetros)\n",
    "k_vals=datos[:,1]        # segunda columna: coeficiente de extinción\n",
    "\n",
    "# 2️⃣ Verificar que las longitudes de onda estén uniformemente espaciadas\n",
    "delta_lambda=lambda_vals[1]-lambda_vals[0]\n",
    "if not np.allclose(np.diff(lambda_vals), delta_lambda):\n",
    "    raise ValueError(\"Las longitudes de onda no están uniformemente espaciadas.\")\n",
    "\n",
    "# 3️⃣ Inicializar arreglo para los valores de n(λ)\n",
    "n_vals=np.zeros_like(lambda_vals)\n",
    "\n",
    "# 4️⃣ Calcular n(λ) usando la suma discreta de Kramers-Kronig\n",
    "for i, lambda_i in enumerate(lambda_vals):\n",
    "    suma=0.0\n",
    "    for j, lambda_j in enumerate(lambda_vals):\n",
    "        if i!=j:\n",
    "            suma +=k_vals[j]/(lambda_j**2-lambda_i**2)\n",
    "    \n",
    "    n_vals[i]=1+(2*lambda_i/np.pi)*suma*delta_lambda\n",
    "\n",
    "# 5️⃣ Graficar n(λ) junto con k(λ)\n",
    "plt.figure(figsize=(9,5))\n",
    "\n",
    "# Índice de refracción n(λ)\n",
    "plt.plot(lambda_vals, n_vals, label=\"n(λ)\", color='blue', linewidth=2)\n",
    "\n",
    "# Coeficiente de extinción k(λ)\n",
    "plt.plot(lambda_vals, k_vals, label=\"k(λ)\", color='red', linestyle='--', linewidth=2)\n",
    "\n",
    "# Configuración de la gráfica\n",
    "plt.xlabel(\"Longitud de onda (µm)\")\n",
    "plt.ylabel(\"Índice / Coeficiente de extinción\")\n",
    "plt.title(\"Índice de refracción n(λ) y coeficiente de extinción k(λ)\")\n",
    "plt.legend()\n",
    "plt.grid(True)\n",
    "plt.tight_layout()\n",
    "plt.show()\n"
   ]
  }
 ],
 "metadata": {
  "kernelspec": {
   "display_name": "base",
   "language": "python",
   "name": "python3"
  },
  "language_info": {
   "name": "python",
   "version": "3.12.9"
  }
 },
 "nbformat": 4,
 "nbformat_minor": 5
}
